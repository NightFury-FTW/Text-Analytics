{
 "cells": [
  {
   "cell_type": "code",
   "execution_count": 1,
   "id": "5834cded-6f76-4803-924d-ab85259e7646",
   "metadata": {},
   "outputs": [],
   "source": [
    "import nltk\n",
    "from nltk.corpus import stopwords\n",
    "from nltk.tokenize import word_tokenize\n",
    "from nltk.stem import WordNetLemmatizer\n",
    "\n",
    "from gensim import corpora\n",
    "from gensim.models import LdaModel\n",
    "import pandas as pd\n"
   ]
  },
  {
   "cell_type": "code",
   "execution_count": 2,
   "id": "1a26a2d9-4a82-4d5e-8f78-46d1a3f46a85",
   "metadata": {},
   "outputs": [
    {
     "name": "stderr",
     "output_type": "stream",
     "text": [
      "[nltk_data] Downloading package stopwords to\n",
      "[nltk_data]     C:\\Users\\night\\AppData\\Roaming\\nltk_data...\n",
      "[nltk_data]   Package stopwords is already up-to-date!\n",
      "[nltk_data] Downloading package punkt to\n",
      "[nltk_data]     C:\\Users\\night\\AppData\\Roaming\\nltk_data...\n",
      "[nltk_data]   Package punkt is already up-to-date!\n",
      "[nltk_data] Downloading package wordnet to\n",
      "[nltk_data]     C:\\Users\\night\\AppData\\Roaming\\nltk_data...\n",
      "[nltk_data]   Package wordnet is already up-to-date!\n"
     ]
    },
    {
     "data": {
      "text/plain": [
       "True"
      ]
     },
     "execution_count": 2,
     "metadata": {},
     "output_type": "execute_result"
    }
   ],
   "source": [
    "nltk.download('stopwords')\n",
    "nltk.download('punkt')\n",
    "nltk.download('wordnet')\n"
   ]
  },
  {
   "cell_type": "code",
   "execution_count": 3,
   "id": "f3829e8c-35c1-499f-b9f8-69cf5638e17d",
   "metadata": {},
   "outputs": [],
   "source": [
    "df = pd.read_csv(r'C:\\Users\\night\\Downloads\\npr.csv')  # Replace with the correct path if needed\n",
    "documents = df['Article'].tolist()\n"
   ]
  },
  {
   "cell_type": "code",
   "execution_count": 4,
   "id": "9b35c00c-596d-4b64-b066-dda0ef4fb5e3",
   "metadata": {},
   "outputs": [],
   "source": [
    "stop_words = set(stopwords.words('english'))\n",
    "lemmatizer = WordNetLemmatizer()\n",
    "\n",
    "def preprocess_text(text):\n",
    "    tokens = word_tokenize(text.lower())\n",
    "    tokens = [token for token in tokens if token.isalnum()]\n",
    "    tokens = [token for token in tokens if token not in stop_words]\n",
    "    tokens = [lemmatizer.lemmatize(token) for token in tokens]\n",
    "    return tokens\n",
    "\n",
    "preprocessed_documents = [preprocess_text(doc) for doc in documents]\n"
   ]
  },
  {
   "cell_type": "code",
   "execution_count": 5,
   "id": "3bd9e3c2-8236-472a-8023-3a4ab8c66f48",
   "metadata": {},
   "outputs": [],
   "source": [
    "dictionary = corpora.Dictionary(preprocessed_documents)\n",
    "dictionary.filter_extremes(no_below=15, no_above=0.5)\n",
    "corpus = [dictionary.doc2bow(doc) for doc in preprocessed_documents]\n"
   ]
  },
  {
   "cell_type": "code",
   "execution_count": 6,
   "id": "01370ef3-fc2f-4778-9b9e-13fbdd62a5ab",
   "metadata": {},
   "outputs": [],
   "source": [
    "lda_model = LdaModel(corpus, num_topics=5, id2word=dictionary, passes=15)\n"
   ]
  },
  {
   "cell_type": "code",
   "execution_count": 7,
   "id": "a8f8f28b-74d3-409f-81c1-6d2f622de4f3",
   "metadata": {},
   "outputs": [
    {
     "name": "stdout",
     "output_type": "stream",
     "text": [
      "                                                 Article  Topic\n",
      "0      In the Washington of 2016, even when the polic...      4\n",
      "1        Donald Trump has used Twitter  —   his prefe...      4\n",
      "2        Donald Trump is unabashedly praising Russian...      1\n",
      "3      Updated at 2:50 p. m. ET, Russian President Vl...      4\n",
      "4      From photography, illustration and video, to d...      2\n",
      "...                                                  ...    ...\n",
      "11987  The number of law enforcement officers shot an...      4\n",
      "11988    Trump is busy these days with victory tours,...      1\n",
      "11989  It’s always interesting for the Goats and Soda...      0\n",
      "11990  The election of Donald Trump was a surprise to...      1\n",
      "11991  Voters in the English city of Sunderland did s...      1\n",
      "\n",
      "[11992 rows x 2 columns]\n"
     ]
    }
   ],
   "source": [
    "article_labels = []\n",
    "for doc in preprocessed_documents:\n",
    "    bow = dictionary.doc2bow(doc)\n",
    "    topics = lda_model.get_document_topics(bow)\n",
    "    dominant_topic = max(topics, key=lambda x: x[1])[0]\n",
    "    article_labels.append(dominant_topic)\n",
    "\n",
    "df_result = pd.DataFrame({\"Article\": documents, \"Topic\": article_labels})\n",
    "print(df_result)\n"
   ]
  },
  {
   "cell_type": "code",
   "execution_count": 8,
   "id": "7663bdf6-42e4-4d15-9c30-5ed7e1199062",
   "metadata": {},
   "outputs": [
    {
     "name": "stdout",
     "output_type": "stream",
     "text": [
      "Top terms for Topic #0:\n",
      "['health', 'percent', 'school', 'study', 'company', 'care', 'state', 'student', 'child', 'program']\n",
      "\n",
      "Top terms for Topic #1:\n",
      "['trump', 'clinton', 'president', 'republican', 'state', 'campaign', 'election', 'vote', 'obama', 'voter']\n",
      "\n",
      "Top terms for Topic #2:\n",
      "['city', 'water', 'day', 'world', 'two', 'back', 'home', 'country', 'around', 'last']\n",
      "\n",
      "Top terms for Topic #3:\n",
      "['think', 'know', 'thing', 'life', 'woman', 'really', 'story', 'something', 'book', 'u']\n",
      "\n",
      "Top terms for Topic #4:\n",
      "['police', 'state', 'government', 'law', 'report', 'court', 'president', 'country', 'case', 'official']\n",
      "\n"
     ]
    }
   ],
   "source": [
    "for topic_id in range(lda_model.num_topics):\n",
    "    print(f\"Top terms for Topic #{topic_id}:\")\n",
    "    print([term[0] for term in lda_model.show_topic(topic_id, topn=10)])\n",
    "    print()\n"
   ]
  },
  {
   "cell_type": "code",
   "execution_count": 9,
   "id": "29aeb52d-8472-42f2-9497-2f1c7d589c35",
   "metadata": {},
   "outputs": [
    {
     "name": "stdout",
     "output_type": "stream",
     "text": [
      "Topic 0:\n",
      "- \"health\" (weight: 0.009)\n",
      "- \"percent\" (weight: 0.006)\n",
      "- \"school\" (weight: 0.006)\n",
      "- \"study\" (weight: 0.005)\n",
      "- \"company\" (weight: 0.005)\n",
      "- \"care\" (weight: 0.005)\n",
      "- \"state\" (weight: 0.005)\n",
      "- \"student\" (weight: 0.004)\n",
      "- \"child\" (weight: 0.004)\n",
      "- \"program\" (weight: 0.004)\n",
      "\n",
      "Topic 1:\n",
      "- \"trump\" (weight: 0.034)\n",
      "- \"clinton\" (weight: 0.014)\n",
      "- \"president\" (weight: 0.010)\n",
      "- \"republican\" (weight: 0.010)\n",
      "- \"state\" (weight: 0.009)\n",
      "- \"campaign\" (weight: 0.009)\n",
      "- \"election\" (weight: 0.007)\n",
      "- \"vote\" (weight: 0.006)\n",
      "- \"obama\" (weight: 0.006)\n",
      "- \"voter\" (weight: 0.006)\n",
      "\n",
      "Topic 2:\n",
      "- \"city\" (weight: 0.005)\n",
      "- \"water\" (weight: 0.004)\n",
      "- \"day\" (weight: 0.004)\n",
      "- \"world\" (weight: 0.004)\n",
      "- \"two\" (weight: 0.003)\n",
      "- \"back\" (weight: 0.003)\n",
      "- \"home\" (weight: 0.003)\n",
      "- \"country\" (weight: 0.003)\n",
      "- \"around\" (weight: 0.003)\n",
      "- \"last\" (weight: 0.003)\n",
      "\n",
      "Topic 3:\n",
      "- \"think\" (weight: 0.006)\n",
      "- \"know\" (weight: 0.006)\n",
      "- \"thing\" (weight: 0.006)\n",
      "- \"life\" (weight: 0.005)\n",
      "- \"woman\" (weight: 0.005)\n",
      "- \"really\" (weight: 0.005)\n",
      "- \"story\" (weight: 0.004)\n",
      "- \"something\" (weight: 0.004)\n",
      "- \"book\" (weight: 0.004)\n",
      "- \"u\" (weight: 0.004)\n",
      "\n",
      "Topic 4:\n",
      "- \"police\" (weight: 0.007)\n",
      "- \"state\" (weight: 0.007)\n",
      "- \"government\" (weight: 0.006)\n",
      "- \"law\" (weight: 0.006)\n",
      "- \"report\" (weight: 0.006)\n",
      "- \"court\" (weight: 0.005)\n",
      "- \"president\" (weight: 0.005)\n",
      "- \"country\" (weight: 0.004)\n",
      "- \"case\" (weight: 0.004)\n",
      "- \"official\" (weight: 0.004)\n",
      "\n"
     ]
    }
   ],
   "source": [
    "for idx, topic in lda_model.print_topics():\n",
    "    print(f\"Topic {idx}:\")\n",
    "    terms = [term.strip() for term in topic.split(\"+\")]\n",
    "    for term in terms:\n",
    "        weight, word = term.split(\"*\")\n",
    "        print(f\"- {word.strip()} (weight: {weight.strip()})\")\n",
    "    print()\n"
   ]
  }
 ],
 "metadata": {
  "kernelspec": {
   "display_name": "Python [conda env:base] *",
   "language": "python",
   "name": "conda-base-py"
  },
  "language_info": {
   "codemirror_mode": {
    "name": "ipython",
    "version": 3
   },
   "file_extension": ".py",
   "mimetype": "text/x-python",
   "name": "python",
   "nbconvert_exporter": "python",
   "pygments_lexer": "ipython3",
   "version": "3.12.7"
  }
 },
 "nbformat": 4,
 "nbformat_minor": 5
}
